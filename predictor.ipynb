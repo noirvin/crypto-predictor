{
 "cells": [
  {
   "cell_type": "code",
   "execution_count": 41,
   "metadata": {},
   "outputs": [],
   "source": [
    "import json\n",
    "import requests\n",
    "from tensorflow.keras.models import Sequential\n",
    "from tensorflow.keras.layers import Activation, Dense, Dropout, LSTM\n",
    "import matplotlib.pyplot as plt\n",
    "import numpy as np\n",
    "import pandas as pd\n",
    "import glob as glob\n",
    "import os\n",
    "dataset_path = 'datasets/'"
   ]
  },
  {
   "cell_type": "code",
   "execution_count": 46,
   "metadata": {},
   "outputs": [],
   "source": [
    "crypto_dfs = {}\n",
    "\n",
    "for fn in os.listdir(\"datasets/\"):\n",
    "    if fn.endswith(\".csv\"):\n",
    "        coin_name = fn.split(\".\")[0]\n",
    "        df = pd.read_csv(os.path.join(\"datasets/\", fn), parse_dates=[\"Date\"])\n",
    "        crypto_dfs[coin_name] = df.sort_values('Date')"
   ]
  },
  {
   "cell_type": "code",
   "execution_count": 47,
   "metadata": {},
   "outputs": [
    {
     "data": {
      "text/plain": [
       "dict_keys(['BTCCash', 'Chainlink', 'BitTorrent', 'BTC', 'XRP', 'DigiByte', 'BTCGold', 'Solana', 'Uniswap', 'Polkadot', 'Dogecoin', 'Binance', 'Tether', 'Ethereum', 'Litecoin', 'ADA'])"
      ]
     },
     "execution_count": 47,
     "metadata": {},
     "output_type": "execute_result"
    }
   ],
   "source": [
    "crypto_dfs.keys()"
   ]
  },
  {
   "cell_type": "code",
   "execution_count": 49,
   "metadata": {
    "scrolled": true
   },
   "outputs": [
    {
     "data": {
      "text/plain": [
       "<bound method NDFrame.head of            Date    Price     Open     High      Low   Vol. Change %\n",
       "2298 2015-01-22  0.01602  0.01523  0.01750  0.01523      -    5.19%\n",
       "2297 2015-01-23  0.01600  0.01602  0.01700  0.01600      -   -0.12%\n",
       "2296 2015-01-24  0.01739  0.01600  0.01739  0.01500      -    8.69%\n",
       "2295 2015-01-25  0.01700  0.01739  0.01739  0.01560      -   -2.24%\n",
       "2294 2015-01-26  0.01469  0.01700  0.01750  0.01469      -  -13.59%\n",
       "...         ...      ...      ...      ...      ...    ...      ...\n",
       "4    2021-05-04  1.39664  1.55463  1.55703  1.35493  2.18B  -10.17%\n",
       "3    2021-05-05  1.61396  1.39752  1.62073  1.39752  2.01B   15.56%\n",
       "2    2021-05-06  1.60294  1.61386  1.76001  1.54527  2.37B   -0.68%\n",
       "1    2021-05-07  1.58103  1.60296  1.68963  1.51153  1.44B   -1.37%\n",
       "0    2021-05-08  1.61173  1.58091  1.62614  1.56182  1.16B    1.94%\n",
       "\n",
       "[2299 rows x 7 columns]>"
      ]
     },
     "execution_count": 49,
     "metadata": {},
     "output_type": "execute_result"
    }
   ],
   "source": [
    "#checking if dates are sorted\n",
    "crypto_dfs['XRP'].head"
   ]
  },
  {
   "cell_type": "code",
   "execution_count": null,
   "metadata": {},
   "outputs": [],
   "source": [
    "#visualize cryptos with price\n"
   ]
  }
 ],
 "metadata": {
  "kernelspec": {
   "display_name": "Python 3.8 (tensorflow)",
   "language": "python",
   "name": "tensorflow"
  },
  "language_info": {
   "codemirror_mode": {
    "name": "ipython",
    "version": 3
   },
   "file_extension": ".py",
   "mimetype": "text/x-python",
   "name": "python",
   "nbconvert_exporter": "python",
   "pygments_lexer": "ipython3",
   "version": "3.8.5"
  }
 },
 "nbformat": 4,
 "nbformat_minor": 4
}
